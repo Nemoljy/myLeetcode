{
 "cells": [
  {
   "cell_type": "markdown",
   "metadata": {},
   "source": [
    "## 46. 全排列\n"
   ]
  },
  {
   "cell_type": "raw",
   "metadata": {},
   "source": [
    "给定一个 没有重复 数字的序列，返回其所有可能的全排列。\n",
    "\n",
    "示例:\n",
    "\n",
    "输入: [1,2,3]\n",
    "输出:\n",
    "[\n",
    "  [1,2,3],\n",
    "  [1,3,2],\n",
    "  [2,1,3],\n",
    "  [2,3,1],\n",
    "  [3,1,2],\n",
    "  [3,2,1]\n",
    "]\n",
    "\n",
    "\n",
    "\n",
    "回溯框架\n",
    "def trackback():\n",
    "    if 终止条件:\n",
    "        res.add()\n",
    "        return\n",
    "    \n",
    "    for 选项 in 选择列表:\n",
    "        做选择\n",
    "        trackback()  递归\n",
    "        撤销选择\n"
   ]
  },
  {
   "cell_type": "code",
   "execution_count": 2,
   "metadata": {},
   "outputs": [],
   "source": [
    "from typing import List"
   ]
  },
  {
   "cell_type": "code",
   "execution_count": 3,
   "metadata": {},
   "outputs": [],
   "source": [
    "## 法1 插值\n",
    "class Solution:\n",
    "    def permute(self, nums: List[int]) -> List[List[int]]:\n",
    "        def getit(nums,tmp):\n",
    "            if not nums:\n",
    "                return []\n",
    "\n",
    "            n = nums.pop(0)\n",
    "            tmp = getit(nums,tmp) if len(nums)>1 else [nums]\n",
    "            result = []\n",
    "            for l in tmp:\n",
    "                for i in range(len(l)+1):\n",
    "                    result.append(l[:i]+[n]+l[i:])\n",
    "            return result\n",
    "\n",
    "        res = []\n",
    "        return getit(nums,res)"
   ]
  },
  {
   "cell_type": "code",
   "execution_count": 186,
   "metadata": {},
   "outputs": [],
   "source": [
    "## 2 题解解法  回溯\n",
    "class Solution:\n",
    "    def permute(self, nums: List[int]) -> List[List[int]]:\n",
    "        def trackback(nums,track):\n",
    "            if len(track)==len(nums):\n",
    "                res.append(track[:])\n",
    "                return\n",
    "\n",
    "            for i in nums:\n",
    "                if i in track:\n",
    "                    continue\n",
    "                trackback(nums,track+[i])\n",
    "        \n",
    "        res = []\n",
    "        trackback(nums,[])\n",
    "        return res"
   ]
  },
  {
   "cell_type": "code",
   "execution_count": 189,
   "metadata": {
    "scrolled": false
   },
   "outputs": [
    {
     "data": {
      "text/plain": [
       "[[1, 2, 3], [2, 1, 3], [2, 3, 1], [1, 3, 2], [3, 1, 2], [3, 2, 1]]"
      ]
     },
     "execution_count": 189,
     "metadata": {},
     "output_type": "execute_result"
    }
   ],
   "source": [
    "so = Solution()\n",
    "so.permute([1,2,3])"
   ]
  },
  {
   "cell_type": "markdown",
   "metadata": {},
   "source": [
    "## 47全排列2  有重复值"
   ]
  },
  {
   "cell_type": "markdown",
   "metadata": {},
   "source": [
    "### 法1 我的解法可以直接用，再加个去重   nmd  超时了             "
   ]
  },
  {
   "cell_type": "code",
   "execution_count": 153,
   "metadata": {},
   "outputs": [],
   "source": [
    "# def getit(nums,tmp):\n",
    "#     if not nums:\n",
    "#         return []\n",
    "    \n",
    "#     n = nums.pop(0)\n",
    "#     tmp = getit(nums,tmp) if len(nums)>1 else [nums]\n",
    "#     result = []\n",
    "#     for l in tmp:\n",
    "#         for i in range(len(l)+1):\n",
    "#             result.append(l[:i]+[n]+l[i:])\n",
    "            \n",
    "#     return result\n",
    "\n",
    "# nums = [1,-1,1,2,-1,2,2,-1]\n",
    "# result = []\n",
    "# result = getit(nums,result)\n",
    "# lenth = len(result)\n",
    "# for i in range(lenth-1):\n",
    "#     i = lenth-1-i\n",
    "#     if result[i] in result[:i]:\n",
    "#         result.pop(i)"
   ]
  },
  {
   "cell_type": "code",
   "execution_count": 181,
   "metadata": {
    "scrolled": true
   },
   "outputs": [
    {
     "data": {
      "text/plain": [
       "[[1, 1, 3], [1, 3, 1], [3, 1, 1]]"
      ]
     },
     "execution_count": 181,
     "metadata": {},
     "output_type": "execute_result"
    }
   ],
   "source": [
    "## 2 题解解法  回溯\n",
    "class Solution:\n",
    "    def permuteUnique(self, nums: List[int]) -> List[List[int]]:\n",
    "        def trackback(used,track):\n",
    "            if len(track)==len(nums):\n",
    "                res.append(track[:])\n",
    "                return\n",
    "\n",
    "            for i in range(len(nums)):\n",
    "                if used[i] or (i>0 and nums[i]==nums[i-1] and not used[i-1]):  ## 增加剪枝：该选项与上次相等，且上次没有被使用\n",
    "                    continue\n",
    "                used[i] = True\n",
    "                trackback(used,track+[nums[i]])\n",
    "                used[i] = False\n",
    "        \n",
    "        res = []\n",
    "        nums.sort()\n",
    "        used = [False]*len(nums)\n",
    "        trackback(used,[])\n",
    "        return res"
   ]
  },
  {
   "cell_type": "markdown",
   "metadata": {},
   "source": [
    "## 51 N皇后"
   ]
  },
  {
   "cell_type": "code",
   "execution_count": 10,
   "metadata": {},
   "outputs": [],
   "source": [
    "## 1 先全排列，并在过程中判断对角线\n",
    "class Solution(object):\n",
    "    def solveNQueens(self, n):\n",
    "\n",
    "        def check_diag(track_l):  ## 相比全排列，多一个对角线判断\n",
    "            diag1,diag2 = [],[]\n",
    "            for k in range(len(track_l)):\n",
    "                tmp1 = track_l[k] + k\n",
    "                tmp2 = track_l[k] - k\n",
    "                if tmp1 in diag1 or tmp2 in diag2:\n",
    "                    return False\n",
    "                    break\n",
    "                diag1.append(tmp1)\n",
    "                diag2.append(tmp2)\n",
    "            return True\n",
    "\n",
    "        def trackback(n,track):\n",
    "            if not check_diag(track):\n",
    "                return\n",
    "\n",
    "            if len(track) == n:\n",
    "                res.append(track[:])\n",
    "                return\n",
    "\n",
    "            for i in range(1,n+1):\n",
    "                if i in track:\n",
    "                    continue\n",
    "                track.append(i)\n",
    "                trackback(n,track)\n",
    "                track.remove(i)\n",
    "\n",
    "        def result_str(track_l):\n",
    "            str_l = []\n",
    "            for i in track_l:\n",
    "                row = '.' * n\n",
    "                str_l.append(row[:i-1]+'Q'+row[i:])\n",
    "\n",
    "            return str_l\n",
    "\n",
    "\n",
    "        n = 4\n",
    "        res = []\n",
    "        trackback(n,[])\n",
    "        result = [result_str(k) for k in res]\n",
    "        return result"
   ]
  },
  {
   "cell_type": "code",
   "execution_count": 12,
   "metadata": {},
   "outputs": [
    {
     "data": {
      "text/plain": [
       "[['.Q..', '...Q', 'Q...', '..Q.'], ['..Q.', 'Q...', '...Q', '.Q..']]"
      ]
     },
     "execution_count": 12,
     "metadata": {},
     "output_type": "execute_result"
    }
   ],
   "source": [
    "s = Solution()\n",
    "s.solveNQueens(4)"
   ]
  },
  {
   "cell_type": "code",
   "execution_count": 9,
   "metadata": {},
   "outputs": [
    {
     "data": {
      "text/plain": [
       "[['.Q..', '...Q', 'Q...', '..Q.'], ['..Q.', 'Q...', '...Q', '.Q..']]"
      ]
     },
     "execution_count": 9,
     "metadata": {},
     "output_type": "execute_result"
    }
   ],
   "source": [
    "# 2  行列对角线 3个规则都在回溯过程中判断\n",
    "class Solution(object):\n",
    "    def solveNQueens(self, n):\n",
    "        def valid(row, col, track):\n",
    "            if col in track:  # 判列\n",
    "                return False\n",
    "            for k in range(row):  # 判斜对角\n",
    "                if row + col == k + track[k] or row - col == k - track[k]:\n",
    "                    return False\n",
    "            return True\n",
    "\n",
    "        def backtrack(row, track):\n",
    "            if row == n:  # 已到最后一行\n",
    "                res.append(track)\n",
    "                return\n",
    "            for col in range(n):\n",
    "                if valid(row, col, track):  # 若位置合法，则进入下一行\n",
    "                    backtrack(row + 1, track + [col])\n",
    "\n",
    "        res = []\n",
    "        backtrack(0, [])\n",
    "        return [['.'*i + 'Q' + '.'*(n-i-1) for i in l] for l in res]"
   ]
  },
  {
   "cell_type": "code",
   "execution_count": null,
   "metadata": {},
   "outputs": [],
   "source": []
  }
 ],
 "metadata": {
  "kernelspec": {
   "display_name": "Python 3",
   "language": "python",
   "name": "python3"
  },
  "language_info": {
   "codemirror_mode": {
    "name": "ipython",
    "version": 3
   },
   "file_extension": ".py",
   "mimetype": "text/x-python",
   "name": "python",
   "nbconvert_exporter": "python",
   "pygments_lexer": "ipython3",
   "version": "3.7.6"
  }
 },
 "nbformat": 4,
 "nbformat_minor": 4
}
