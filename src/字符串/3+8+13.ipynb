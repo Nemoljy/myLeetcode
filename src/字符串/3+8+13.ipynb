{
 "cells": [
  {
   "cell_type": "markdown",
   "metadata": {},
   "source": [
    "## 3. 无重复字符的最长子串\n",
    "https://leetcode-cn.com/problems/longest-substring-without-repeating-characters/\n",
    "\n",
    "给定一个字符串，请你找出其中不含有重复字符的 最长子串 的长度。\n",
    "\n",
    "示例 1:\n",
    "\n",
    "输入: \"abcabcbb\"\n",
    "输出: 3 \n",
    "解释: 因为无重复字符的最长子串是 \"abc\"，所以其长度为 3。"
   ]
  },
  {
   "cell_type": "code",
   "execution_count": 11,
   "metadata": {},
   "outputs": [],
   "source": [
    "class Solution(object):\n",
    "    def lengthOfLongestSubstring(self, s):\n",
    "        \"\"\"\n",
    "        :type s: str\n",
    "        :rtype: int\n",
    "        \"\"\"\n",
    "        l = 0\n",
    "        r = 0\n",
    "        maxLen = 0\n",
    "        sl = list(s)\n",
    "        \n",
    "        while r<len(s):\n",
    "            if sl[r] in sl[l:r]:\n",
    "                l += 1\n",
    "            else:\n",
    "                r += 1\n",
    "            maxLen = max(maxLen,r-l)\n",
    "            \n",
    "        return maxLen\n",
    "        \n",
    "        "
   ]
  },
  {
   "cell_type": "code",
   "execution_count": 12,
   "metadata": {},
   "outputs": [
    {
     "data": {
      "text/plain": [
       "3"
      ]
     },
     "execution_count": 12,
     "metadata": {},
     "output_type": "execute_result"
    }
   ],
   "source": [
    "s='abcabcbb'\n",
    "sol = Solution()\n",
    "sol.lengthOfLongestSubstring(s)"
   ]
  },
  {
   "cell_type": "markdown",
   "metadata": {},
   "source": [
    "## 8. 字符串转换整数 (atoi)"
   ]
  },
  {
   "cell_type": "markdown",
   "metadata": {},
   "source": [
    "## 知识点\n",
    "```python\n",
    "s = '4193 with words'\n",
    "s = s.lstrip()    ### 去除左边空格\n",
    "alist = []\n",
    "*alist   ## *list解包，*[1,2]为1,2\n",
    "int(*re.findall('sadasd',s))\n",
    "```"
   ]
  },
  {
   "cell_type": "raw",
   "metadata": {},
   "source": [
    "\n",
    "请你来实现一个 atoi 函数，使其能将字符串转换成整数。\n",
    "\n",
    "首先，该函数会根据需要丢弃无用的开头空格字符，直到寻找到第一个非空格的字符为止。接下来的转化规则如下：\n",
    "\n",
    "如果第一个非空字符为正或者负号时，则将该符号与之后面尽可能多的连续数字字符组合起来，形成一个有符号整数。\n",
    "假如第一个非空字符是数字，则直接将其与之后连续的数字字符组合起来，形成一个整数。\n",
    "该字符串在有效的整数部分之后也可能会存在多余的字符，那么这些字符可以被忽略，它们对函数不应该造成影响。\n",
    "注意：假如该字符串中的第一个非空格字符不是一个有效整数字符、字符串为空或字符串仅包含空白字符时，则你的函数不需要进行转换，即无法进行有效转换。\n",
    "\n",
    "在任何情况下，若函数不能进行有效的转换时，请返回 0 。\n",
    "\n",
    "提示：\n",
    "\n",
    "本题中的空白字符只包括空格字符 ' ' 。\n",
    "假设我们的环境只能存储 32 位大小的有符号整数，那么其数值范围为 [−231,  231 − 1]。如果数值超过这个范围，请返回  INT_MAX (231 − 1) 或 INT_MIN (−231) 。"
   ]
  },
  {
   "cell_type": "code",
   "execution_count": 3,
   "metadata": {},
   "outputs": [],
   "source": [
    "class Solution:\n",
    "    def myAtoi(self, str: str) -> int:\n",
    "        import re\n",
    "        INT_MAX = pow(2,31)-1\n",
    "        INT_MIN = pow(-2,31)\n",
    "        num = int(re.match(' *?[\\+-]?\\d+',str).group()) if re.match(' *?[\\+-]?\\d+',str) else 0\n",
    "        return min(max(INT_MIN,num),INT_MAX)"
   ]
  },
  {
   "cell_type": "code",
   "execution_count": 4,
   "metadata": {},
   "outputs": [
    {
     "data": {
      "text/plain": [
       "4193"
      ]
     },
     "execution_count": 4,
     "metadata": {},
     "output_type": "execute_result"
    }
   ],
   "source": [
    "s = '   4193 with words'\n",
    "so=Solution()\n",
    "so.myAtoi(s)"
   ]
  },
  {
   "cell_type": "code",
   "execution_count": null,
   "metadata": {},
   "outputs": [],
   "source": []
  },
  {
   "cell_type": "markdown",
   "metadata": {},
   "source": [
    "## 13. 罗马数字转整数"
   ]
  },
  {
   "cell_type": "raw",
   "metadata": {},
   "source": [
    "罗马数字包含以下七种字符: I， V， X， L，C，D 和 M。\n",
    "\n",
    "字符          数值\n",
    "I             1\n",
    "V             5\n",
    "X             10\n",
    "L             50\n",
    "C             100\n",
    "D             500\n",
    "M             1000\n",
    "\n",
    "【思路】\n",
    "从右向左，一一对应，存入list\n",
    "右比左小则相加，大则减左"
   ]
  },
  {
   "cell_type": "code",
   "execution_count": 9,
   "metadata": {},
   "outputs": [],
   "source": [
    "class Solution:\n",
    "    def romanToInt(self, s: str) -> int:\n",
    "        dic = {'I':1,'V':5,'X':10,'L':50,'C':100,'D':500,'M':1000}\n",
    "        num_list = [dic[k] for k in s]\n",
    "        num_list.reverse()\n",
    "        result = num_list[0]\n",
    "        for i in range(len(num_list)-1):\n",
    "            result += num_list[i+1] if num_list[i+1]>=num_list[i] else  -num_list[i+1]\n",
    "            \n",
    "        return result"
   ]
  },
  {
   "cell_type": "code",
   "execution_count": 10,
   "metadata": {},
   "outputs": [
    {
     "data": {
      "text/plain": [
       "4"
      ]
     },
     "execution_count": 10,
     "metadata": {},
     "output_type": "execute_result"
    }
   ],
   "source": [
    "s = 'IV'\n",
    "so = Solution()\n",
    "so.romanToInt(s)"
   ]
  },
  {
   "cell_type": "code",
   "execution_count": null,
   "metadata": {},
   "outputs": [],
   "source": []
  }
 ],
 "metadata": {
  "kernelspec": {
   "display_name": "Python 3",
   "language": "python",
   "name": "python3"
  },
  "language_info": {
   "codemirror_mode": {
    "name": "ipython",
    "version": 3
   },
   "file_extension": ".py",
   "mimetype": "text/x-python",
   "name": "python",
   "nbconvert_exporter": "python",
   "pygments_lexer": "ipython3",
   "version": "3.7.6"
  }
 },
 "nbformat": 4,
 "nbformat_minor": 4
}
