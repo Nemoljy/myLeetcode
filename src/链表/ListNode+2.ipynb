{
 "cells": [
  {
   "cell_type": "markdown",
   "metadata": {},
   "source": [
    "## 链表 ListNode\n",
    "https://juejin.im/post/5b93be37e51d450e68674833"
   ]
  },
  {
   "cell_type": "code",
   "execution_count": 47,
   "metadata": {},
   "outputs": [],
   "source": [
    "class Node():\n",
    "    def __init__(self,dataval=None):\n",
    "        self.dataval = dataval\n",
    "        self.nextval = None\n",
    "        \n",
    "class SListNode():\n",
    "    def __init__(self):\n",
    "        self.headval = None\n",
    "        \n",
    "    ##末尾增加\n",
    "    def append(self,newdata):\n",
    "        newNode = Node(newdata)\n",
    "        if self.headval is None:\n",
    "            self.headval = newNode\n",
    "            return\n",
    "        laste = self.headval\n",
    "        while laste.nextval:\n",
    "            laste = laste.nextval\n",
    "        laste.nextval = newNode\n",
    "#         return\n",
    "    \n",
    "    ## 遍历打印\n",
    "    def show(self):\n",
    "        printval = self.headval\n",
    "        while printval:\n",
    "            print(printval.dataval)\n",
    "            printval = printval.nextval\n",
    "    \n",
    "    ## 插入\n",
    "    def insert(self, middleNode, newdata):\n",
    "        if not middleNode:\n",
    "            print('Middle node missing.')\n",
    "            return\n",
    "        newNode = Node(newdata)\n",
    "        newNode.nextval = middleNode.nextval\n",
    "        middleNode.nextval = newNode\n",
    "        \n",
    "        \n",
    "li = SListNode()\n",
    "e1 = Node('Mon1')\n",
    "e2 = Node('Mon2')\n",
    "e3 = Node('Mon3')\n",
    "li.headval = e1\n",
    "li.headval.nextval = e2\n",
    "e2.nextval = e3\n",
    "li.append('Mon5')\n"
   ]
  },
  {
   "cell_type": "code",
   "execution_count": 53,
   "metadata": {},
   "outputs": [
    {
     "name": "stdout",
     "output_type": "stream",
     "text": [
      "Mon1\n",
      "Mon2\n",
      "Mon3\n",
      "Mon4\n",
      "Mon4\n",
      "Mon5\n"
     ]
    }
   ],
   "source": [
    "li.show()\n",
    "li.insert(e3,'Mon4')\n"
   ]
  },
  {
   "cell_type": "code",
   "execution_count": 54,
   "metadata": {},
   "outputs": [
    {
     "name": "stdout",
     "output_type": "stream",
     "text": [
      "Mon1\n",
      "Mon2\n",
      "Mon3\n",
      "Mon4\n",
      "Mon4\n",
      "Mon4\n",
      "Mon5\n"
     ]
    }
   ],
   "source": [
    "li.show()"
   ]
  },
  {
   "cell_type": "code",
   "execution_count": null,
   "metadata": {},
   "outputs": [],
   "source": []
  },
  {
   "cell_type": "code",
   "execution_count": null,
   "metadata": {},
   "outputs": [],
   "source": []
  },
  {
   "cell_type": "markdown",
   "metadata": {},
   "source": [
    "## 2\n",
    "https://leetcode-cn.com/problems/add-two-numbers/"
   ]
  },
  {
   "cell_type": "raw",
   "metadata": {},
   "source": [
    "给出两个 非空 的链表用来表示两个非负的整数。其中，它们各自的位数是按照 逆序 的方式存储的，并且它们的每个节点只能存储 一位 数字。\n",
    "\n",
    "如果，我们将这两个数相加起来，则会返回一个新的链表来表示它们的和。\n",
    "\n",
    "您可以假设除了数字 0 之外，这两个数都不会以 0 开头。\n",
    "\n",
    "示例：\n",
    "\n",
    "输入：(2 -> 4 -> 3) + (5 -> 6 -> 4)\n",
    "输出：7 -> 0 -> 8\n",
    "原因：342 + 465 = 807"
   ]
  },
  {
   "cell_type": "code",
   "execution_count": 114,
   "metadata": {},
   "outputs": [],
   "source": [
    "# Definition for singly-linked list.\n",
    "# class ListNode(object):\n",
    "#     def __init__(self, x):\n",
    "#         self.val = x\n",
    "#         self.next = None\n",
    "\n",
    "class ListNode(object):\n",
    "    def __init__(self, x):\n",
    "        self.val = x\n",
    "        self.next = None\n",
    "\n",
    "l1 = ListNode(2)\n",
    "l1.next = ListNode(4)\n",
    "l1.next.next = ListNode(3)\n",
    "l2 = ListNode(5)\n",
    "l2.next = ListNode(6)\n",
    "l2.next.next = ListNode(4)\n",
    "\n",
    "\n",
    "class Solution(object):\n",
    "    def sum1Node(self,ln):\n",
    "        if not ln:\n",
    "            return 0\n",
    "        last = ln\n",
    "        n = last.val\n",
    "        i = 1\n",
    "        while last.next:\n",
    "            last = last.next\n",
    "            n = n + pow(10,i)*last.val\n",
    "            i = i+1\n",
    "        return n\n",
    "    \n",
    "    def addTwoNumbers(self, l1, l2):\n",
    "        \"\"\"\n",
    "        :type l1: ListNode\n",
    "        :type l2: ListNode\n",
    "        :rtype: ListNode\n",
    "        \"\"\"\n",
    "        \n",
    "        s = self.sum1Node(l1) + self.sum1Node(l2)\n",
    "        print(self.sum1Node(l1),self.sum1Node(l2),s)\n",
    "        sn_head = ListNode(s%10)\n",
    "        sn_last = sn_head\n",
    "        s = int(s/10)  ## 可以写成  s //= 10,   s=s//10 \n",
    "        while s:\n",
    "            t = ListNode(s%10)\n",
    "            sn_last.next = t\n",
    "            sn_last = t\n",
    "            s = int(s/10)\n",
    "        return sn_head\n"
   ]
  },
  {
   "cell_type": "code",
   "execution_count": 115,
   "metadata": {},
   "outputs": [
    {
     "name": "stdout",
     "output_type": "stream",
     "text": [
      "342 465 807\n"
     ]
    }
   ],
   "source": [
    "so = Solution()\n",
    "lll = so.addTwoNumbers(l1, l2)"
   ]
  },
  {
   "cell_type": "code",
   "execution_count": 116,
   "metadata": {},
   "outputs": [
    {
     "name": "stdout",
     "output_type": "stream",
     "text": [
      "7\n",
      "0\n",
      "8\n"
     ]
    }
   ],
   "source": [
    "print(lll.val)\n",
    "print(lll.next.val)\n",
    "print(lll.next.next.val)"
   ]
  },
  {
   "cell_type": "code",
   "execution_count": 98,
   "metadata": {
    "scrolled": true
   },
   "outputs": [
    {
     "name": "stdout",
     "output_type": "stream",
     "text": [
      "2\n",
      "3\n"
     ]
    },
    {
     "ename": "AttributeError",
     "evalue": "'NoneType' object has no attribute 'val'",
     "output_type": "error",
     "traceback": [
      "\u001b[1;31m---------------------------------------------------------------------------\u001b[0m",
      "\u001b[1;31mAttributeError\u001b[0m                            Traceback (most recent call last)",
      "\u001b[1;32m<ipython-input-98-f6efb0229769>\u001b[0m in \u001b[0;36m<module>\u001b[1;34m\u001b[0m\n\u001b[0;32m      1\u001b[0m \u001b[0mprint\u001b[0m\u001b[1;33m(\u001b[0m\u001b[0ml1\u001b[0m\u001b[1;33m.\u001b[0m\u001b[0mval\u001b[0m\u001b[1;33m)\u001b[0m\u001b[1;33m\u001b[0m\u001b[1;33m\u001b[0m\u001b[0m\n\u001b[0;32m      2\u001b[0m \u001b[0mprint\u001b[0m\u001b[1;33m(\u001b[0m\u001b[0ml1\u001b[0m\u001b[1;33m.\u001b[0m\u001b[0mnext\u001b[0m\u001b[1;33m.\u001b[0m\u001b[0mval\u001b[0m\u001b[1;33m)\u001b[0m\u001b[1;33m\u001b[0m\u001b[1;33m\u001b[0m\u001b[0m\n\u001b[1;32m----> 3\u001b[1;33m \u001b[0mprint\u001b[0m\u001b[1;33m(\u001b[0m\u001b[0ml1\u001b[0m\u001b[1;33m.\u001b[0m\u001b[0mnext\u001b[0m\u001b[1;33m.\u001b[0m\u001b[0mnext\u001b[0m\u001b[1;33m.\u001b[0m\u001b[0mval\u001b[0m\u001b[1;33m)\u001b[0m\u001b[1;33m\u001b[0m\u001b[1;33m\u001b[0m\u001b[0m\n\u001b[0m",
      "\u001b[1;31mAttributeError\u001b[0m: 'NoneType' object has no attribute 'val'"
     ]
    }
   ],
   "source": [
    "print(l1.val)\n",
    "print(l1.next.val)\n",
    "print(l1.next.next.val)"
   ]
  },
  {
   "cell_type": "code",
   "execution_count": 132,
   "metadata": {},
   "outputs": [],
   "source": [
    "## 大佬写法\n",
    "class Solution:\n",
    "    def addTwoNumbers(self, l1: ListNode, l2: ListNode) -> ListNode:\n",
    "        dummy = p = ListNode(None) #保存头结点，返回结果\n",
    "        s = 0 #每一步的求和暂存变量\n",
    "        while l1 or l2 or s:           #循环条件：l1 或者l2（没有遍历完成），s(进位)不为0\n",
    "            s += (l1.val if l1 else 0) + (l2.val if l2 else 0)           #这其实是好多代码，我自己写了好多行，但是作者这样写非常简洁，赞\n",
    "            p.next = ListNode(s % 10)             #构建新的list存储结果，其实用较长的加数链表存也可以，%10：求个位\n",
    "            p = p.next                        \n",
    "            s //= 10                                         #求进位\n",
    "            l1 = l1.next if l1 else None           \n",
    "            l2 = l2.next if l2 else None\n",
    "        return dummy.next"
   ]
  },
  {
   "cell_type": "code",
   "execution_count": 133,
   "metadata": {
    "scrolled": true
   },
   "outputs": [
    {
     "name": "stdout",
     "output_type": "stream",
     "text": [
      "7\n",
      "0\n",
      "8\n"
     ]
    }
   ],
   "source": [
    "l1 = ListNode(2)\n",
    "l1.next = ListNode(4)\n",
    "l1.next.next = ListNode(3)\n",
    "l2 = ListNode(5)\n",
    "l2.next = ListNode(6)\n",
    "l2.next.next = ListNode(4)\n",
    "\n",
    "so = Solution()\n",
    "lll = so.addTwoNumbers(l1, l2)\n",
    "\n",
    "print(lll.val)\n",
    "print(lll.next.val)\n",
    "print(lll.next.next.val)"
   ]
  },
  {
   "cell_type": "code",
   "execution_count": null,
   "metadata": {},
   "outputs": [],
   "source": []
  }
 ],
 "metadata": {
  "kernelspec": {
   "display_name": "Python 3",
   "language": "python",
   "name": "python3"
  },
  "language_info": {
   "codemirror_mode": {
    "name": "ipython",
    "version": 3
   },
   "file_extension": ".py",
   "mimetype": "text/x-python",
   "name": "python",
   "nbconvert_exporter": "python",
   "pygments_lexer": "ipython3",
   "version": "3.7.6"
  }
 },
 "nbformat": 4,
 "nbformat_minor": 4
}
