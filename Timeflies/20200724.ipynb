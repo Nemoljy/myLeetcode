{
 "cells": [
  {
   "cell_type": "markdown",
   "metadata": {},
   "source": [
    "## 104 二叉树高度"
   ]
  },
  {
   "cell_type": "code",
   "execution_count": null,
   "metadata": {},
   "outputs": [],
   "source": [
    "# Definition for a binary tree node.\n",
    "# class TreeNode:\n",
    "#     def __init__(self, x):\n",
    "#         self.val = x\n",
    "#         self.left = None\n",
    "#         self.right = None\n",
    "\n",
    "class Solution:\n",
    "    def maxDepth(self, root: TreeNode) -> int:\n",
    "        if not root:\n",
    "            return 0\n",
    "        l_dep = self.maxDepth(root.left)\n",
    "        r_dep = self.maxDepth(root.right)\n",
    "        return max(l_dep,r_dep)+1"
   ]
  },
  {
   "cell_type": "code",
   "execution_count": null,
   "metadata": {},
   "outputs": [],
   "source": []
  },
  {
   "cell_type": "markdown",
   "metadata": {},
   "source": [
    "## 110 平衡二叉树"
   ]
  },
  {
   "cell_type": "code",
   "execution_count": 118,
   "metadata": {},
   "outputs": [],
   "source": [
    "# Definition for a binary tree node.\n",
    "class TreeNode:\n",
    "    def __init__(self, x):\n",
    "        self.val = x\n",
    "        self.left = None\n",
    "        self.right = None\n",
    "\n",
    "class Solution:\n",
    "    def isBalanced(self, root: TreeNode):\n",
    "        def dep(node):\n",
    "            if not node:\n",
    "                return True,-1\n",
    "            l_tmp = dep(node.left)\n",
    "            if not l_tmp[0]:\n",
    "                return False, 0\n",
    "            r_tmp = dep(node.right)\n",
    "            if not r_tmp[0]:\n",
    "                return False, 0\n",
    "            return abs(l_tmp[1]-r_tmp[1])<=1, max(l_tmp[1],r_tmp[1])+1\n",
    "        return dep(root)[0]"
   ]
  },
  {
   "cell_type": "code",
   "execution_count": 121,
   "metadata": {},
   "outputs": [
    {
     "data": {
      "text/plain": [
       "True"
      ]
     },
     "execution_count": 121,
     "metadata": {},
     "output_type": "execute_result"
    }
   ],
   "source": [
    "# l = [1,2,2,3,3]\n",
    "l = [1,2,2,3,None,None,3,4,None,None,4]\n",
    "root = construct(l,0)\n",
    "\n",
    "so = Solution()\n",
    "so.isBalanced(root)"
   ]
  },
  {
   "cell_type": "code",
   "execution_count": null,
   "metadata": {},
   "outputs": [],
   "source": []
  },
  {
   "cell_type": "markdown",
   "metadata": {},
   "source": [
    "## 236. 二叉树的最近公共祖先"
   ]
  },
  {
   "cell_type": "code",
   "execution_count": 204,
   "metadata": {},
   "outputs": [],
   "source": [
    "# Definition for a binary tree node.\n",
    "# class TreeNode:\n",
    "#     def __init__(self, x):\n",
    "#         self.val = x\n",
    "#         self.left = None\n",
    "#         self.right = None\n",
    "\n",
    "class Solution:\n",
    "    def lowestCommonAncestor(self, root: 'TreeNode', p: 'TreeNode', q: 'TreeNode') -> 'TreeNode':\n",
    "        def searchPath(node, path, p, q):\n",
    "            if not node:\n",
    "                return\n",
    "            path.append(node)\n",
    "            \n",
    "            if node.val == p:\n",
    "                res.append(path[:])\n",
    "            if node.val == q:\n",
    "                res.append(path[:])\n",
    "            \n",
    "            searchPath(node.left,path[:],p,q)\n",
    "            searchPath(node.right,path[:],p,q)\n",
    "            return\n",
    "        \n",
    "        res = []\n",
    "        searchPath(root, [], p, q)\n",
    "        result = None\n",
    "        for i in range(min(len(res[0]),len(res[1]))):\n",
    "            if res[0][i] == res[1][i]:\n",
    "                result = res[0][i]\n",
    "        return result"
   ]
  },
  {
   "cell_type": "code",
   "execution_count": 205,
   "metadata": {},
   "outputs": [
    {
     "name": "stdout",
     "output_type": "stream",
     "text": [
      "[3, 5] [3, 1]\n"
     ]
    },
    {
     "data": {
      "text/plain": [
       "3"
      ]
     },
     "execution_count": 205,
     "metadata": {},
     "output_type": "execute_result"
    }
   ],
   "source": [
    "l = [3,5,1,6,2,0,8,None,None,7,4]\n",
    "root = construct(l,0)\n",
    "so = Solution()\n",
    "so.lowestCommonAncestor(root,5,1).val"
   ]
  },
  {
   "cell_type": "code",
   "execution_count": 203,
   "metadata": {},
   "outputs": [
    {
     "data": {
      "text/plain": [
       "1"
      ]
     },
     "execution_count": 203,
     "metadata": {},
     "output_type": "execute_result"
    }
   ],
   "source": [
    "root.right.val"
   ]
  },
  {
   "cell_type": "code",
   "execution_count": null,
   "metadata": {},
   "outputs": [],
   "source": []
  },
  {
   "cell_type": "code",
   "execution_count": null,
   "metadata": {},
   "outputs": [],
   "source": []
  },
  {
   "cell_type": "markdown",
   "metadata": {},
   "source": [
    "## 随手练一下二叉树构建"
   ]
  },
  {
   "cell_type": "code",
   "execution_count": 64,
   "metadata": {},
   "outputs": [],
   "source": [
    "class TreeNode:\n",
    "    def __init__(self, x):\n",
    "        self.val = x\n",
    "        self.left = None\n",
    "        self.right = None\n",
    "        \n",
    "def construct(treeList, i):\n",
    "    if i >= len(treeList) or (not treeList[i]):\n",
    "        return None\n",
    "    node = TreeNode(treeList[i])\n",
    "    node.left = creatTree(treeList, 2*i+1)\n",
    "    node.right = creatTree(treeList, 2*i+2)\n",
    "    return node\n",
    "\n",
    "def layerTraverse(node):\n",
    "    if not node:\n",
    "        return \n",
    "    queue = []\n",
    "    queue.append(node)\n",
    "    while len(queue):\n",
    "        tmp = queue.pop(0)\n",
    "        print(tmp.val)\n",
    "        if tmp.left:\n",
    "            queue.append(tmp.left)\n",
    "        if tmp.right:\n",
    "            queue.append(tmp.right)\n",
    "            \n",
    "def preOrder(node):\n",
    "    if not node:\n",
    "        return\n",
    "    print(node.val)\n",
    "    preOrder(node.left)\n",
    "    preOrder(node.right)\n",
    "            "
   ]
  },
  {
   "cell_type": "code",
   "execution_count": 65,
   "metadata": {},
   "outputs": [
    {
     "name": "stdout",
     "output_type": "stream",
     "text": [
      "1\n",
      "2\n",
      "2\n",
      "3\n",
      "3\n",
      "4\n",
      "4\n",
      "1\n",
      "2\n",
      "3\n",
      "4\n",
      "4\n",
      "3\n",
      "2\n"
     ]
    }
   ],
   "source": [
    "l = [1,2,2,3,3,None,None,4,4]\n",
    "root = construct(l,0)\n",
    "layerTraverse(root)\n",
    "preOrder(root)"
   ]
  },
  {
   "cell_type": "code",
   "execution_count": null,
   "metadata": {},
   "outputs": [],
   "source": []
  },
  {
   "cell_type": "code",
   "execution_count": 190,
   "metadata": {},
   "outputs": [
    {
     "name": "stdout",
     "output_type": "stream",
     "text": [
      "[[3, 5, 2, 7]]\n"
     ]
    }
   ],
   "source": [
    "### 根到某节点的路径\n",
    "def searchPath(node,path,target):\n",
    "    if not node:\n",
    "        return\n",
    "    path.append(node.val)\n",
    "    if node.val == target:\n",
    "        res.append(path[:])\n",
    "        return\n",
    "    \n",
    "    searchPath(node.left,path[:],target)  ## 这里一定要[:]\n",
    "    searchPath(node.right,path[:],target)\n",
    "    return\n",
    "\n",
    "l = [3,5,1,6,2,0,8,None,None,7,4]\n",
    "root = construct(l,0)\n",
    "\n",
    "res = []\n",
    "searchPath(root,[],7)\n",
    "print(res)\n"
   ]
  },
  {
   "cell_type": "code",
   "execution_count": 188,
   "metadata": {},
   "outputs": [
    {
     "data": {
      "text/plain": [
       "(1961862269128, 1961879807176)"
      ]
     },
     "execution_count": 188,
     "metadata": {},
     "output_type": "execute_result"
    }
   ],
   "source": [
    "id(a),id(a.copy())"
   ]
  },
  {
   "cell_type": "code",
   "execution_count": null,
   "metadata": {},
   "outputs": [],
   "source": []
  }
 ],
 "metadata": {
  "kernelspec": {
   "display_name": "Python 3",
   "language": "python",
   "name": "python3"
  },
  "language_info": {
   "codemirror_mode": {
    "name": "ipython",
    "version": 3
   },
   "file_extension": ".py",
   "mimetype": "text/x-python",
   "name": "python",
   "nbconvert_exporter": "python",
   "pygments_lexer": "ipython3",
   "version": "3.7.6"
  }
 },
 "nbformat": 4,
 "nbformat_minor": 4
}
