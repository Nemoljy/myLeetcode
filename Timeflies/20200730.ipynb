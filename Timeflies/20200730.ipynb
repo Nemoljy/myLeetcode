{
 "cells": [
  {
   "cell_type": "markdown",
   "metadata": {},
   "source": [
    "## 剪绳子\n",
    "给你一根长度为n的绳子，请把绳子剪成整数长的m段（m、n都是整数，n>1并且m>1，m<=n），每段绳子的长度记为k[1],...,k[m]。请问k[1]x...xk[m]可能的最大乘积是多少？例如，当绳子的长度是8时，我们把它剪成长度分别为2、3、3的三段，此时得到的最大乘积是18。"
   ]
  },
  {
   "cell_type": "code",
   "execution_count": null,
   "metadata": {},
   "outputs": [],
   "source": [
    "class Solution:\n",
    "    def cutRope(self, number):\n",
    "        res = 0\n",
    "        \n",
    "        ## 递归贪心计算\n",
    "        def max_multi(n,m):\n",
    "            return (n//m)*max_multi(n-n//m,m-1) if n%m != 0 else pow(n/m,m)\n",
    "        \n",
    "        for m in range(2,number//2+1):\n",
    "            res = max(max_multi(number,m),res)\n",
    "            \n",
    "        return res"
   ]
  },
  {
   "cell_type": "markdown",
   "metadata": {},
   "source": [
    "## 机器人的运动范围\n",
    "地上有一个m行和n列的方格。一个机器人从坐标0,0的格子开始移动，每一次只能向左，右，上，下四个方向移动一格，但是不能进入行坐标和列坐标的数位之和大于k的格子。 例如，当k为18时，机器人能够进入方格（35,37），因为3+5+3+7 = 18。但是，它不能进入方格（35,38），因为3+5+3+8 = 19。请问该机器人能够达到多少个格子？"
   ]
  },
  {
   "cell_type": "code",
   "execution_count": 7,
   "metadata": {},
   "outputs": [],
   "source": [
    "# -*- coding:utf-8 -*-\n",
    "class Solution:\n",
    "    def __init__(self):\n",
    "        self.res = 0\n",
    "        self.moved = {}\n",
    "        \n",
    "    def get_sum(self, n):\n",
    "        sum = 0\n",
    "        while n:\n",
    "            sum += n%10\n",
    "            n = n//10\n",
    "        return sum\n",
    "    \n",
    "    def move(self, row,col):\n",
    "        if not(row>=0 and row<self.rows and col>=0 and col<self.cols):  ## 越界\n",
    "            return\n",
    "        if self.get_sum(row)+self.get_sum(col)>self.threshold:  ## 条件k\n",
    "            return\n",
    "        if self.moved.get((row,col)) == 1: ## 用字典确定是否去过，知识点啊这个key的格式\n",
    "            return\n",
    "\n",
    "        self.moved[(row,col)] = 1\n",
    "        self.res += 1\n",
    "        \n",
    "        self.move(row+1,col)\n",
    "        self.move(row-1,col)\n",
    "        self.move(row,col+1)\n",
    "        self.move(row,col-1)\n",
    "        return\n",
    "    \n",
    "    def movingCount(self, threshold, rows, cols):\n",
    "        self.threshold = threshold\n",
    "        self.rows = rows\n",
    "        self.cols = cols\n",
    "        self.move(0,0)\n",
    "        return self.res"
   ]
  },
  {
   "cell_type": "code",
   "execution_count": 44,
   "metadata": {},
   "outputs": [],
   "source": [
    "# -*- coding:utf-8 -*-\n",
    "class Solution2:\n",
    "    def movingCount(self, threshold, rows, cols):\n",
    "        def get_sum(n):\n",
    "            sum = 0\n",
    "            while n:\n",
    "                sum += n%10\n",
    "                n = n//10\n",
    "            return sum\n",
    "\n",
    "        def move(row,col):\n",
    "            nonlocal res  ## 嵌套函数这么办\n",
    "            nonlocal moved\n",
    "            if not(row>=0 and row<rows and col>=0 and col<cols):  ## 越界\n",
    "                return\n",
    "            if get_sum(row)+get_sum(col)>threshold:  ## 条件k\n",
    "                return\n",
    "            if moved.get((row,col)) == 1: ## 用字典确定是否去过，知识点啊这个key的格式\n",
    "                return\n",
    "\n",
    "            moved[(row,col)] = 1\n",
    "            res += 1\n",
    "\n",
    "            move(row+1,col)\n",
    "            move(row-1,col)\n",
    "            move(row,col+1)\n",
    "            move(row,col-1)\n",
    "            return\n",
    "\n",
    "        res = 0\n",
    "        moved = {}\n",
    "        move(0,0)\n",
    "\n",
    "        return res"
   ]
  },
  {
   "cell_type": "code",
   "execution_count": 47,
   "metadata": {},
   "outputs": [
    {
     "name": "stdout",
     "output_type": "stream",
     "text": [
      "21\n",
      "21\n"
     ]
    }
   ],
   "source": [
    "so = Solution()\n",
    "print(so.movingCount(5,10,10))\n",
    "\n",
    "so2 = Solution2()\n",
    "print(so2.movingCount(5,10,10))"
   ]
  },
  {
   "cell_type": "code",
   "execution_count": 40,
   "metadata": {},
   "outputs": [],
   "source": []
  }
 ],
 "metadata": {
  "kernelspec": {
   "display_name": "Python 3",
   "language": "python",
   "name": "python3"
  },
  "language_info": {
   "codemirror_mode": {
    "name": "ipython",
    "version": 3
   },
   "file_extension": ".py",
   "mimetype": "text/x-python",
   "name": "python",
   "nbconvert_exporter": "python",
   "pygments_lexer": "ipython3",
   "version": "3.7.6"
  }
 },
 "nbformat": 4,
 "nbformat_minor": 4
}
