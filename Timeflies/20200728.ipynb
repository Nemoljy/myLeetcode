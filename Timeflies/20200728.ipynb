{
 "cells": [
  {
   "cell_type": "markdown",
   "metadata": {},
   "source": [
    "## 704 二分查找"
   ]
  },
  {
   "cell_type": "code",
   "execution_count": 31,
   "metadata": {},
   "outputs": [],
   "source": [
    "from typing import List\n",
    "class Solution:\n",
    "    def search(self, nums: List[int], target: int) -> int:\n",
    "        start, end = 0, len(nums)-1\n",
    "        while start+1 < end:\n",
    "            mid = int((end+start)/2)\n",
    "            if nums[mid] == target:\n",
    "                return mid\n",
    "            elif nums[mid] > target:\n",
    "                end = mid\n",
    "            elif nums[mid] < target:\n",
    "                start = mid\n",
    "            \n",
    "        if nums[start] == target:\n",
    "            return start\n",
    "        if nums[end] == target:\n",
    "            return end\n",
    "        return -1"
   ]
  },
  {
   "cell_type": "code",
   "execution_count": 32,
   "metadata": {},
   "outputs": [
    {
     "data": {
      "text/plain": [
       "-1"
      ]
     },
     "execution_count": 32,
     "metadata": {},
     "output_type": "execute_result"
    }
   ],
   "source": [
    "so = Solution()\n",
    "so.search([1,2],5)"
   ]
  },
  {
   "cell_type": "markdown",
   "metadata": {},
   "source": [
    "## 33. 搜索旋转排序数组\n",
    "假设按照升序排序的数组在预先未知的某个点上进行了旋转。\n",
    "\n",
    "( 例如，数组 [0,1,2,4,5,6,7] 可能变为 [4,5,6,7,0,1,2] )。\n",
    "\n",
    "搜索一个给定的目标值，如果数组中存在这个目标值，则返回它的索引，否则返回 -1 。\n",
    "\n",
    "你可以假设数组中不存在重复的元素。\n",
    "\n",
    "你的算法时间复杂度必须是 O(log n) 级别。\n",
    "\n",
    "示例 1:\n",
    "\n",
    "输入: nums = [4,5,6,7,0,1,2], target = 0\n",
    "输出: 4\n",
    "\n",
    "\n",
    "\n",
    "思路\n",
    "\n",
    "判断mid左边有序还是右边有序"
   ]
  },
  {
   "cell_type": "code",
   "execution_count": 33,
   "metadata": {},
   "outputs": [],
   "source": [
    "class Solution:\n",
    "    def search(self, nums: List[int], target: int) -> int:\n",
    "        if not nums:\n",
    "            return -1\n",
    "        start, end = 0, len(nums)-1\n",
    "        while start+1 < end:\n",
    "            mid = int((end+start)/2)\n",
    "            if nums[mid] == target:\n",
    "                return mid\n",
    "            ## 如果左边有序\n",
    "            if nums[start] < nums[mid]:\n",
    "                if nums[start] <= target and target <= nums[mid]:  ##且tar在左边\n",
    "                    end = mid\n",
    "                else:  ## 说明tar在右边\n",
    "                    start = mid\n",
    "            ## 如果右边有序\n",
    "            elif nums[mid] < nums[end]:\n",
    "                if nums[mid] <= target and target <= nums[end]: \n",
    "                    start = mid\n",
    "                else:\n",
    "                    end = mid\n",
    "            \n",
    "        if nums[start] == target:\n",
    "            return start\n",
    "        if nums[end] == target:\n",
    "            return end\n",
    "        return -1"
   ]
  },
  {
   "cell_type": "code",
   "execution_count": 34,
   "metadata": {},
   "outputs": [
    {
     "data": {
      "text/plain": [
       "4"
      ]
     },
     "execution_count": 34,
     "metadata": {},
     "output_type": "execute_result"
    }
   ],
   "source": [
    "so = Solution()\n",
    "t = [4,5,6,7,0,1,2]\n",
    "so.search(t,0)"
   ]
  },
  {
   "cell_type": "code",
   "execution_count": null,
   "metadata": {},
   "outputs": [],
   "source": []
  },
  {
   "cell_type": "code",
   "execution_count": null,
   "metadata": {},
   "outputs": [],
   "source": []
  }
 ],
 "metadata": {
  "kernelspec": {
   "display_name": "Python 3",
   "language": "python",
   "name": "python3"
  },
  "language_info": {
   "codemirror_mode": {
    "name": "ipython",
    "version": 3
   },
   "file_extension": ".py",
   "mimetype": "text/x-python",
   "name": "python",
   "nbconvert_exporter": "python",
   "pygments_lexer": "ipython3",
   "version": "3.7.3"
  }
 },
 "nbformat": 4,
 "nbformat_minor": 2
}
