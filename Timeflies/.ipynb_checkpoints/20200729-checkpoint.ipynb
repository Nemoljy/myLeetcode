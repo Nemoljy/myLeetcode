{
 "cells": [
  {
   "cell_type": "markdown",
   "metadata": {},
   "source": [
    "### 22. 括号生成\n",
    "数字 n 代表生成括号的对数，请你设计一个函数，用于能够生成所有可能的并且 有效的 括号组合。\n",
    "\n",
    "示例：\n",
    "\n",
    "输入：n = 3\n",
    "输出：[\n",
    "       \"((()))\",\n",
    "       \"(()())\",\n",
    "       \"(())()\",\n",
    "       \"()(())\",\n",
    "       \"()()()\"\n",
    "     ]\n",
    "\n",
    "#### 思路：\n",
    "n个位置放右括号，n长的list，条件：pos[i]<=i+1且sum(pos)=n"
   ]
  },
  {
   "cell_type": "code",
   "execution_count": 7,
   "metadata": {},
   "outputs": [],
   "source": [
    "class Solution:\n",
    "    def generateParenthesis(self, n: int) -> List[str]:\n",
    "        pos = [0]*n\n",
    "        res = []\n",
    "        \n",
    "        pos[]"
   ]
  },
  {
   "cell_type": "code",
   "execution_count": 15,
   "metadata": {},
   "outputs": [
    {
     "data": {
      "text/plain": [
       "[[0, 0, 0]]"
      ]
     },
     "execution_count": 15,
     "metadata": {},
     "output_type": "execute_result"
    }
   ],
   "source": [
    "\n",
    "def backtrack(n,pos):\n",
    "    if len(pos)==n:\n",
    "        res.append(pos[:])\n",
    "        return\n",
    "    for i in range(n):\n",
    "        if i > len(pos)+1 and i+sum(pos)>n:\n",
    "            continue\n",
    "        pos.append(i)\n",
    "        backtrack(n,pos)\n",
    "        pos.pop(-1)\n",
    "        return\n",
    "\n",
    "pos = []\n",
    "res = []\n",
    "n = 3\n",
    "backtrack(n,pos)\n",
    "res"
   ]
  },
  {
   "cell_type": "code",
   "execution_count": 14,
   "metadata": {},
   "outputs": [
    {
     "data": {
      "text/plain": [
       "2"
      ]
     },
     "execution_count": 14,
     "metadata": {},
     "output_type": "execute_result"
    }
   ],
   "source": [
    "while sum(pos)<n:\n",
    "    pos[i]"
   ]
  },
  {
   "cell_type": "code",
   "execution_count": null,
   "metadata": {},
   "outputs": [],
   "source": []
  }
 ],
 "metadata": {
  "kernelspec": {
   "display_name": "Python 3",
   "language": "python",
   "name": "python3"
  },
  "language_info": {
   "codemirror_mode": {
    "name": "ipython",
    "version": 3
   },
   "file_extension": ".py",
   "mimetype": "text/x-python",
   "name": "python",
   "nbconvert_exporter": "python",
   "pygments_lexer": "ipython3",
   "version": "3.7.3"
  }
 },
 "nbformat": 4,
 "nbformat_minor": 2
}
