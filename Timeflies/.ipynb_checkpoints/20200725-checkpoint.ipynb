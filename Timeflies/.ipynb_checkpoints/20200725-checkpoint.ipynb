{
 "cells": [
  {
   "cell_type": "code",
   "execution_count": 9,
   "metadata": {},
   "outputs": [],
   "source": [
    "## 构建\n",
    "def construct(l):\n",
    "    if not len(l):\n",
    "        return None\n",
    "    ln_l = [ListNode(k) for k in l]\n",
    "    head = ln_l[0]\n",
    "    for i in range(len(ln_l)-1):\n",
    "        ln_l[i].next = ln_l[i+1]\n",
    "    return head\n",
    "def traverse(head):\n",
    "    if not head:\n",
    "        return\n",
    "    print(head.val)\n",
    "    traverse(head.next)"
   ]
  },
  {
   "cell_type": "markdown",
   "metadata": {},
   "source": [
    "## 82. 删除排序链表中的重复元素 II"
   ]
  },
  {
   "cell_type": "code",
   "execution_count": 6,
   "metadata": {},
   "outputs": [],
   "source": [
    "class ListNode:\n",
    "    def __init__(self, x):\n",
    "        self.val = x\n",
    "        self.next = None\n",
    "\n",
    "def deleteDuplicates(head: ListNode) -> ListNode:\n",
    "    if not head:\n",
    "        return []\n",
    "    node = head\n",
    "    dic = {}\n",
    "    dic[node] = 1  # 1的保留  0的去掉\n",
    "    while node.next:\n",
    "        if node.val == node.next.val:\n",
    "            dic[node] = 0\n",
    "            dic[node.next] = 0\n",
    "        node = node.next\n",
    "\n",
    "    res = [k for k,v in dic.items() if v==1]\n",
    "    if len(res):\n",
    "        head = res[0]\n",
    "        for i in range(len(res)-1):\n",
    "            res[i].next = res[i+1]\n",
    "\n",
    "    return head"
   ]
  },
  {
   "cell_type": "code",
   "execution_count": 31,
   "metadata": {},
   "outputs": [
    {
     "name": "stdout",
     "output_type": "stream",
     "text": [
      "1\n",
      "2\n",
      "3\n",
      "3\n",
      "4\n",
      "4\n",
      "5\n"
     ]
    }
   ],
   "source": []
  },
  {
   "cell_type": "code",
   "execution_count": 44,
   "metadata": {},
   "outputs": [
    {
     "name": "stdout",
     "output_type": "stream",
     "text": [
      "[1, 1, 0, 0]\n",
      "[1, 2]\n",
      "1\n",
      "2\n"
     ]
    }
   ],
   "source": [
    "l = [1,2,3,3]\n",
    "head = construct(l)\n",
    "\n",
    "node = head\n",
    "dic = {}\n",
    "while node:\n",
    "    dic[node] = 1  # 1的保留  0的去掉  默认为1\n",
    "    node = node.next\n",
    "node = head\n",
    "while node.next:\n",
    "    if node.val == node.next.val:\n",
    "        dic[node] = 0\n",
    "        dic[node.next] = 0\n",
    "        print([v for v in dic.values()])\n",
    "    node = node.next\n",
    "res = [k for k,v in dic.items() if v==1]\n",
    "print([v.val for v in res])\n",
    "\n",
    "rhead = None\n",
    "if len(res):\n",
    "    rhead = res[0]\n",
    "    rhead.next = None\n",
    "    for i in range(len(res)-1):\n",
    "        res[i].next = res[i+1]\n",
    "    res[-1].next = None\n",
    "traverse(rhead)"
   ]
  },
  {
   "cell_type": "code",
   "execution_count": 33,
   "metadata": {},
   "outputs": [
    {
     "name": "stdout",
     "output_type": "stream",
     "text": [
      "1\n",
      "2\n",
      "5\n"
     ]
    }
   ],
   "source": []
  },
  {
   "cell_type": "code",
   "execution_count": 26,
   "metadata": {},
   "outputs": [
    {
     "data": {
      "text/plain": [
       "1"
      ]
     },
     "execution_count": 26,
     "metadata": {},
     "output_type": "execute_result"
    }
   ],
   "source": [
    "head.val"
   ]
  },
  {
   "cell_type": "code",
   "execution_count": null,
   "metadata": {},
   "outputs": [],
   "source": []
  }
 ],
 "metadata": {
  "kernelspec": {
   "display_name": "Python 3",
   "language": "python",
   "name": "python3"
  },
  "language_info": {
   "codemirror_mode": {
    "name": "ipython",
    "version": 3
   },
   "file_extension": ".py",
   "mimetype": "text/x-python",
   "name": "python",
   "nbconvert_exporter": "python",
   "pygments_lexer": "ipython3",
   "version": "3.7.6"
  }
 },
 "nbformat": 4,
 "nbformat_minor": 4
}
