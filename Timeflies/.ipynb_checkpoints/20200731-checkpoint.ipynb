{
 "cells": [
  {
   "cell_type": "markdown",
   "metadata": {},
   "source": [
    "## 矩阵中的路径\n",
    "\n",
    "题目描述\n",
    "请设计一个函数，用来判断在一个矩阵中是否存在一条包含某字符串所有字符的路径。路径可以从矩阵中的任意一个格子开始，每一步可以在矩阵中向左，向右，向上，向下移动一个格子。如果一条路径经过了矩阵中的某一个格子，则该路径不能再进入该格子。 例如 \\begin{bmatrix} a & b & c &e \\\\ s & f & c & s \\\\ a & d & e& e\\\\ \\end{bmatrix}\n",
    "   矩阵中包含一条字符串\"bcced\"的路径，但是矩阵中不包含\"abcb\"路径，因为字符串的第一个字符b占据了矩阵中的第一行第二个格子之后，路径不能再次进入该格子。"
   ]
  },
  {
   "cell_type": "code",
   "execution_count": 173,
   "metadata": {},
   "outputs": [],
   "source": [
    "# -*- coding:utf-8 -*-\n",
    "class Solution:\n",
    "    def dfs(self,row,col,track):\n",
    "        if self.flag:  ## 找到了直接不管了\n",
    "            return\n",
    "        if self.target == track:  ## 顺序有关系，如果这个在下面的if后面，那么1x1的矩阵无法判断True\n",
    "            self.flag = True\n",
    "            return\n",
    "        if not (row>=0 and row<self.rows and col>=0 and col<self.cols):  ## 越界\n",
    "            return\n",
    "        if self._moved.get((row,col)):  ## 去过了\n",
    "            return\n",
    "        \n",
    "        if self.matrix[row][col] == self.target[len(track)]:\n",
    "            \n",
    "            track += self.matrix[row][col]\n",
    "            self._moved[(row,col)] = True\n",
    "\n",
    "            self.dfs(row+1,col,track)\n",
    "            self.dfs(row-1,col,track)\n",
    "            self.dfs(row,col+1,track)\n",
    "            self.dfs(row,col-1,track)\n",
    "        \n",
    "        return\n",
    "    \n",
    "    def hasPath(self, matrix, rows, cols, path):\n",
    "        # write code here\n",
    "        self.matrix = [list(matrix[cols*i:cols*i+cols]) for i in range(rows)]  ## tmd输入竟然是个字符串……\n",
    "        self.rows, self.cols, self.target = rows, cols, path\n",
    "        self.flag = False\n",
    "\n",
    "        for i in range(rows):\n",
    "            for j in range(cols):\n",
    "                if self.matrix[i][j] == path[0]:\n",
    "                    self._moved = {}\n",
    "                    self.dfs(i,j,'')\n",
    "\n",
    "        return self.flag"
   ]
  },
  {
   "cell_type": "code",
   "execution_count": 175,
   "metadata": {},
   "outputs": [
    {
     "name": "stdout",
     "output_type": "stream",
     "text": [
      "['A']\n"
     ]
    },
    {
     "data": {
      "text/plain": [
       "True"
      ]
     },
     "execution_count": 175,
     "metadata": {},
     "output_type": "execute_result"
    }
   ],
   "source": [
    "matrix = 'A'\n",
    "rows = 1\n",
    "cols = 1\n",
    "m = [list(matrix[cols*i:cols*i+cols]) for i in range(rows)]\n",
    "for i in m:\n",
    "    print(i)\n",
    "so = Solution()\n",
    "so.hasPath(matrix,rows,cols,'A')"
   ]
  },
  {
   "cell_type": "markdown",
   "metadata": {},
   "source": [
    "## 滑动窗口的最大值\n",
    "给定一个数组和滑动窗口的大小，找出所有滑动窗口里数值的最大值。例如，如果输入数组{2,3,4,2,6,2,5,1}及滑动窗口的大小3，那么一共存在6个滑动窗口，他们的最大值分别为{4,4,6,6,6,5}； 针对数组{2,3,4,2,6,2,5,1}的滑动窗口有以下6个： {[2,3,4],2,6,2,5,1}， {2,[3,4,2],6,2,5,1}， {2,3,[4,2,6],2,5,1}， {2,3,4,[2,6,2],5,1}， {2,3,4,2,[6,2,5],1}， {2,3,4,2,6,[2,5,1]}。\n",
    "窗口大于数组长度的时候，返回当前数组的最大值"
   ]
  },
  {
   "cell_type": "code",
   "execution_count": 211,
   "metadata": {},
   "outputs": [],
   "source": [
    "# -*- coding:utf-8 -*-\n",
    "class Solution:\n",
    "    def maxInWindows(self, num, size):\n",
    "        # write code here\n",
    "        lenth = len(num)\n",
    "        if size>lenth:  ## 给nm恶心了，[10,14,12,11],5的正确输出是[]？？？怕不是出题者都错了\n",
    "            return max(num)\n",
    "        if size <= 0:\n",
    "            return []\n",
    "        res = []\n",
    "        for i in range(lenth-size+1):\n",
    "            res.append(max(num[i:i+size]))\n",
    "        return res"
   ]
  },
  {
   "cell_type": "code",
   "execution_count": 212,
   "metadata": {},
   "outputs": [
    {
     "data": {
      "text/plain": [
       "14"
      ]
     },
     "execution_count": 212,
     "metadata": {},
     "output_type": "execute_result"
    }
   ],
   "source": [
    "so = Solution()\n",
    "so.maxInWindows([10,14,12,11],5)"
   ]
  },
  {
   "cell_type": "markdown",
   "metadata": {},
   "source": [
    "## 数据流中的中位数\n",
    "如何得到一个数据流中的中位数？如果从数据流中读出奇数个数值，那么中位数就是所有数值排序之后位于中间的数值。如果从数据流中读出偶数个数值，那么中位数就是所有数值排序之后中间两个数的平均值。我们使用Insert()方法读取数据流，使用GetMedian()方法获取当前读取数据的中位数。"
   ]
  },
  {
   "cell_type": "code",
   "execution_count": 214,
   "metadata": {},
   "outputs": [
    {
     "data": {
      "text/plain": [
       "[1, 2, 3, 5, 6]"
      ]
     },
     "execution_count": 214,
     "metadata": {},
     "output_type": "execute_result"
    }
   ],
   "source": [
    "## 插入排序练习\n",
    "def insort(nums):\n",
    "    for i in range(1,len(nums)):\n",
    "        key = nums[i]\n",
    "        j = i-1\n",
    "        while j>=0 and key<nums[j]:\n",
    "            nums[j+1] = nums[j]\n",
    "            j -= 1\n",
    "        nums[j+1] = key\n",
    "    return nums\n",
    "nums = [1,5,3,6,2]\n",
    "insort(nums)"
   ]
  },
  {
   "cell_type": "code",
   "execution_count": 278,
   "metadata": {},
   "outputs": [],
   "source": [
    "# -*- coding:utf-8 -*-\n",
    "## 提交是错的，太傻了\n",
    "class Solution:\n",
    "    def __init__(self):\n",
    "        self.data = []\n",
    "    def Insert(self, num):\n",
    "        ## 这里插入排序\n",
    "        self.data.append(num)\n",
    "        i = len(self.data)-2\n",
    "        \n",
    "        while i>=0 and num<self.data[i]:\n",
    "            self.data[i+1] = self.data[i]\n",
    "            i -= 1\n",
    "        self.data[i+1] = num\n",
    "        \n",
    "    def GetMedian(self):\n",
    "        if len(self.data)%2:\n",
    "            return self.data[len(self.data)//2]\n",
    "        else:\n",
    "            a = len(self.data)//2\n",
    "            return (self.data[a-1]+self.data[a])/2"
   ]
  },
  {
   "cell_type": "code",
   "execution_count": 281,
   "metadata": {},
   "outputs": [
    {
     "name": "stdout",
     "output_type": "stream",
     "text": [
      "[5]\n",
      "5\n",
      "[2, 5]\n",
      "3.5\n",
      "[2, 3, 5]\n",
      "3\n",
      "[2, 3, 4, 5]\n",
      "3.5\n",
      "[1, 2, 3, 4, 5]\n",
      "3\n",
      "[1, 2, 3, 4, 5, 6]\n",
      "3.5\n"
     ]
    }
   ],
   "source": [
    "so = Solution()\n",
    "so.Insert(5)\n",
    "print(so.data)\n",
    "print(so.GetMedian())\n",
    "so.Insert(2)\n",
    "print(so.data)\n",
    "print(so.GetMedian())\n",
    "so.Insert(3)\n",
    "print(so.data)\n",
    "print(so.GetMedian())\n",
    "so.Insert(4)\n",
    "print(so.data)\n",
    "print(so.GetMedian())\n",
    "so.Insert(1)\n",
    "print(so.data)\n",
    "print(so.GetMedian())\n",
    "so.Insert(6)\n",
    "print(so.data)\n",
    "print(so.GetMedian())"
   ]
  },
  {
   "cell_type": "code",
   "execution_count": null,
   "metadata": {},
   "outputs": [],
   "source": []
  },
  {
   "cell_type": "markdown",
   "metadata": {},
   "source": [
    "## 153. 寻找旋转排序数组中的最小值\n",
    "假设按照升序排序的数组在预先未知的某个点上进行了旋转。\n",
    "\n",
    "( 例如，数组 [0,1,2,4,5,6,7] 可能变为 [4,5,6,7,0,1,2] )。\n",
    "\n",
    "请找出其中最小的元素。\n",
    "\n",
    "你可以假设数组中不存在重复元素。"
   ]
  },
  {
   "cell_type": "code",
   "execution_count": 283,
   "metadata": {},
   "outputs": [],
   "source": [
    "from typing import List\n",
    "\n",
    "## 讲道理，如果肯定旋转过的话，这样是没问题的，tmd还有[1,2,3]这样没旋转过的…思路就得变了\n",
    "# class Solution:\n",
    "#     def findMin(self, nums: List[int]) -> int:\n",
    "#         start, end = 0, len(nums)-1\n",
    "#         while start+1 < end:\n",
    "#             mid = (start+end)//2\n",
    "#             if nums[mid]>nums[mid+1]:\n",
    "#                 return nums[mid+1]\n",
    "#             elif nums[start]<=nums[mid]:\n",
    "#                 start = mid\n",
    "#             else:\n",
    "#                 end = mid\n",
    "#         return min(nums[start],nums[end])\n",
    "\n",
    "class Solution:\n",
    "    def findMin(self, nums: List[int]) -> int:\n",
    "        start, end = 0, len(nums)-1\n",
    "        while start+1 < end:\n",
    "            mid = (start+end)//2\n",
    "            if nums[mid] < nums[end]:\n",
    "                end = mid\n",
    "            else:\n",
    "                start = mid\n",
    "        return min(nums[start],nums[end])\n"
   ]
  },
  {
   "cell_type": "code",
   "execution_count": 288,
   "metadata": {},
   "outputs": [
    {
     "data": {
      "text/plain": [
       "1"
      ]
     },
     "execution_count": 288,
     "metadata": {},
     "output_type": "execute_result"
    }
   ],
   "source": [
    "so = Solution()\n",
    "so.findMin([3,5,6,8])"
   ]
  },
  {
   "cell_type": "markdown",
   "metadata": {},
   "source": [
    "## 154. 寻找旋转排序数组中的最小值2\n",
    "同153，存在重复元素"
   ]
  },
  {
   "cell_type": "code",
   "execution_count": 316,
   "metadata": {},
   "outputs": [],
   "source": [
    "class Solution:\n",
    "    def findMin(self, nums: List[int]) -> int:\n",
    "        start, end = 0, len(nums)-1\n",
    "        while start+1 < end:\n",
    "            mid = (start+end)//2\n",
    "            if nums[mid] < nums[end]:\n",
    "                end = mid\n",
    "            elif nums[mid] > nums[end]:\n",
    "                start = mid\n",
    "            else:\n",
    "                end -= 1\n",
    "        return min(nums[start],nums[end])"
   ]
  },
  {
   "cell_type": "code",
   "execution_count": 317,
   "metadata": {},
   "outputs": [
    {
     "data": {
      "text/plain": [
       "1"
      ]
     },
     "execution_count": 317,
     "metadata": {},
     "output_type": "execute_result"
    }
   ],
   "source": [
    "so = Solution()\n",
    "so.findMin([1,3,5])"
   ]
  },
  {
   "cell_type": "code",
   "execution_count": null,
   "metadata": {},
   "outputs": [],
   "source": []
  }
 ],
 "metadata": {
  "kernelspec": {
   "display_name": "Python 3",
   "language": "python",
   "name": "python3"
  },
  "language_info": {
   "codemirror_mode": {
    "name": "ipython",
    "version": 3
   },
   "file_extension": ".py",
   "mimetype": "text/x-python",
   "name": "python",
   "nbconvert_exporter": "python",
   "pygments_lexer": "ipython3",
   "version": "3.7.6"
  }
 },
 "nbformat": 4,
 "nbformat_minor": 4
}
