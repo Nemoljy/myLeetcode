{
 "cells": [
  {
   "cell_type": "markdown",
   "metadata": {},
   "source": [
    "## 95. 不同的二叉搜索树 II"
   ]
  },
  {
   "cell_type": "raw",
   "metadata": {},
   "source": [
    "给定一个整数 n，生成所有由 1 ... n 为节点所组成的 二叉搜索树 。\n",
    "\n",
    "\n",
    "示例：\n",
    "输入：3\n",
    "输出：\n",
    "[\n",
    "  [1,null,3,2],\n",
    "  [3,2,null,1],\n",
    "  [3,1,null,null,2],\n",
    "  [2,1,3],\n",
    "  [1,null,2,null,3]\n",
    "]\n",
    "解释：\n",
    "以上的输出对应以下 5 种不同结构的二叉搜索树：\n",
    "\n",
    "   1         3     3      2      1\n",
    "    \\       /     /      / \\      \\\n",
    "     3     2     1      1   3      2\n",
    "    /     /       \\                 \\\n",
    "   2     1         2                 3"
   ]
  },
  {
   "cell_type": "code",
   "execution_count": 12,
   "metadata": {},
   "outputs": [],
   "source": [
    "from typing import List\n",
    "# Definition for a binary tree node.\n",
    "class TreeNode(object):\n",
    "    def __init__(self, val=0, left=None, right=None):\n",
    "        self.val = val\n",
    "        self.left = left\n",
    "        self.right = right\n",
    "class Solution:\n",
    "    def generateTrees(self, n: int) -> List[TreeNode]:\n",
    "        def generate(start, end):\n",
    "            if start > end:\n",
    "                return [None,]\n",
    "            \n",
    "            allTrees = []\n",
    "            for i in range(start, end + 1):  # 枚举可行根节点\n",
    "                # 获得所有可行的左子树集合\n",
    "                leftTrees = generate(start, i - 1)\n",
    "                \n",
    "                # 获得所有可行的右子树集合\n",
    "                rightTrees = generate(i + 1, end)\n",
    "                \n",
    "                # 从左子树集合中选出一棵左子树，从右子树集合中选出一棵右子树，拼接到根节点上\n",
    "                for l in leftTrees:\n",
    "                    for r in rightTrees:\n",
    "                        currTree = TreeNode(i)\n",
    "                        currTree.left = l\n",
    "                        currTree.right = r\n",
    "                        allTrees.append(currTree)\n",
    "            return allTrees\n",
    "        return generate(1, n) if n else []"
   ]
  },
  {
   "cell_type": "code",
   "execution_count": 14,
   "metadata": {},
   "outputs": [],
   "source": [
    "class Solution:\n",
    "    def generateTrees(self, n: int) -> List[TreeNode]:\n",
    "        def generate(start,end):\n",
    "            if start>end:\n",
    "                return [None]\n",
    "            \n",
    "            allTrees = []\n",
    "            for i in range(start, end+1):\n",
    "                leftT = generate(start, i-1)\n",
    "                rightT = generate(i+1, end)\n",
    "                \n",
    "                for l in leftT:\n",
    "                    for r in rightT:\n",
    "                        current = TreeNode(i)\n",
    "                        current.left = l\n",
    "                        current.right = r\n",
    "                        allTrees.append(current)\n",
    "                        \n",
    "            return allTrees\n",
    "        return generate(1,n)"
   ]
  },
  {
   "cell_type": "code",
   "execution_count": 15,
   "metadata": {},
   "outputs": [
    {
     "name": "stdout",
     "output_type": "stream",
     "text": [
      "[<__main__.TreeNode object at 0x0000025BB3E2F7B8>, <__main__.TreeNode object at 0x0000025BB3E2FEB8>, <__main__.TreeNode object at 0x0000025BB3E2F128>, <__main__.TreeNode object at 0x0000025BB3E2F240>, <__main__.TreeNode object at 0x0000025BB3E2FD30>]\n"
     ]
    }
   ],
   "source": [
    "so = Solution()\n",
    "print(so.generateTrees(3))"
   ]
  },
  {
   "cell_type": "code",
   "execution_count": null,
   "metadata": {},
   "outputs": [],
   "source": []
  }
 ],
 "metadata": {
  "kernelspec": {
   "display_name": "Python 3",
   "language": "python",
   "name": "python3"
  },
  "language_info": {
   "codemirror_mode": {
    "name": "ipython",
    "version": 3
   },
   "file_extension": ".py",
   "mimetype": "text/x-python",
   "name": "python",
   "nbconvert_exporter": "python",
   "pygments_lexer": "ipython3",
   "version": "3.7.6"
  }
 },
 "nbformat": 4,
 "nbformat_minor": 2
}
