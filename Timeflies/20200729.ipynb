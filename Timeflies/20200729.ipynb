{
 "cells": [
  {
   "cell_type": "markdown",
   "metadata": {},
   "source": [
    "### 22. 括号生成\n",
    "数字 n 代表生成括号的对数，请你设计一个函数，用于能够生成所有可能的并且 有效的 括号组合。\n",
    "\n",
    "示例：\n",
    "\n",
    "输入：n = 3\n",
    "输出：[\n",
    "       \"((()))\",\n",
    "       \"(()())\",\n",
    "       \"(())()\",\n",
    "       \"()(())\",\n",
    "       \"()()()\"\n",
    "     ]\n",
    "\n",
    "#### 思路：\n",
    "n个位置放右括号，n长的list，条件：pos[i]<=i+1且sum(pos)=n"
   ]
  },
  {
   "cell_type": "code",
   "execution_count": 7,
   "metadata": {},
   "outputs": [],
   "source": [
    "class Solution:\n",
    "    def generateParenthesis(self, n: int) -> List[str]:\n",
    "        def backtrack(n,pos):  ## 回溯法获得右括号的排列pos\n",
    "            if len(pos)==n:\n",
    "                if sum(pos)==n:\n",
    "                    pos_res.append(pos[:])\n",
    "                return\n",
    "            for i in range(n+1):\n",
    "                if i+sum(pos) > len(pos)+1 or i+sum(pos)>n:\n",
    "                    continue\n",
    "                pos.append(i)\n",
    "                backtrack(n,pos)\n",
    "                pos.pop(-1)\n",
    "            return\n",
    "\n",
    "        pos_res = []\n",
    "        backtrack(n,[])\n",
    "\n",
    "        res = []\n",
    "        for p in pos_res:\n",
    "            res.append(''.join(['('+')'*nums for nums in p]))\n",
    "        return res\n",
    "    "
   ]
  },
  {
   "cell_type": "code",
   "execution_count": 41,
   "metadata": {},
   "outputs": [
    {
     "name": "stdout",
     "output_type": "stream",
     "text": [
      "['((()))', '(()())', '(())()', '()(())', '()()()']\n"
     ]
    }
   ],
   "source": [
    "\n",
    "def backtrack(n,pos):\n",
    "    if len(pos)==n:\n",
    "        if sum(pos)==n:\n",
    "            pos_res.append(pos[:])\n",
    "        return\n",
    "    for i in range(n+1):\n",
    "        if i+sum(pos) > len(pos)+1 or i+sum(pos)>n:\n",
    "            continue\n",
    "        pos.append(i)\n",
    "        backtrack(n,pos)\n",
    "        pos.pop(-1)\n",
    "    return\n",
    "\n",
    "pos_res = []\n",
    "n = 3\n",
    "backtrack(n,[])\n",
    "\n",
    "res = []\n",
    "for p in pos_res:\n",
    "    res.append(''.join(['('+')'*nums for nums in p]))\n",
    "return res\n",
    "    "
   ]
  },
  {
   "cell_type": "code",
   "execution_count": 40,
   "metadata": {},
   "outputs": [
    {
     "data": {
      "text/plain": [
       "'((()))'"
      ]
     },
     "execution_count": 40,
     "metadata": {},
     "output_type": "execute_result"
    }
   ],
   "source": [
    "p = [0, 0, 3]\n",
    "''.join(['('+')'*nums for nums in p])"
   ]
  },
  {
   "cell_type": "code",
   "execution_count": null,
   "metadata": {},
   "outputs": [],
   "source": [
    "'('+')'*nums"
   ]
  }
 ],
 "metadata": {
  "kernelspec": {
   "display_name": "Python 3",
   "language": "python",
   "name": "python3"
  },
  "language_info": {
   "codemirror_mode": {
    "name": "ipython",
    "version": 3
   },
   "file_extension": ".py",
   "mimetype": "text/x-python",
   "name": "python",
   "nbconvert_exporter": "python",
   "pygments_lexer": "ipython3",
   "version": "3.7.3"
  }
 },
 "nbformat": 4,
 "nbformat_minor": 2
}
