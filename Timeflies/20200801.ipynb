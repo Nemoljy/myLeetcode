{
 "cells": [
  {
   "cell_type": "markdown",
   "metadata": {},
   "source": [
    "## 82. 删除排序链表中的重复元素 II\n",
    "给定一个排序链表，删除所有含有重复数字的节点，只保留原始链表中 没有重复出现 的数字。\n"
   ]
  },
  {
   "cell_type": "code",
   "execution_count": 144,
   "metadata": {},
   "outputs": [],
   "source": [
    "def construct(l):\n",
    "    head = ListNode(l[0])\n",
    "    curr = head\n",
    "    for i in l[1:]:\n",
    "        curr.next = ListNode(i)\n",
    "        curr = curr.next\n",
    "    return head\n",
    "\n",
    "def printLN(head):\n",
    "    l = []\n",
    "    while head:\n",
    "        if len(l)>10:\n",
    "            break\n",
    "        l.append(head.val)\n",
    "        head = head.next\n",
    "    print(l)\n",
    "    return"
   ]
  },
  {
   "cell_type": "code",
   "execution_count": 80,
   "metadata": {},
   "outputs": [],
   "source": [
    "# Definition for singly-linked list.\n",
    "# class ListNode:\n",
    "#     def __init__(self, x):\n",
    "#         self.val = x\n",
    "#         self.next = None\n",
    "\n",
    "## 其实也是自己写的  双指针\n",
    "class Solution:\n",
    "    def deleteDuplicates(self, head: ListNode) -> ListNode:\n",
    "        if not head:\n",
    "            return []\n",
    "        dummy = ListNode(None)\n",
    "        dummy.next = head\n",
    "        prev = dummy\n",
    "        while head and head.next:\n",
    "            if head.val == head.next.val:  ## 出现重复情况，这次的重复扫完后删掉\n",
    "                while head.next and head.val == head.next.val:\n",
    "                    head = head.next\n",
    "                prev.next = head.next\n",
    "            else:  ## 没重复，正常遍历下去\n",
    "                prev = head\n",
    "            head = head.next\n",
    "        return dummy.next"
   ]
  },
  {
   "cell_type": "code",
   "execution_count": 81,
   "metadata": {},
   "outputs": [
    {
     "data": {
      "text/plain": [
       "[3, 5]"
      ]
     },
     "execution_count": 81,
     "metadata": {},
     "output_type": "execute_result"
    }
   ],
   "source": [
    "l = [1,1,2,2,3,4,4,5]\n",
    "head = construct(l)\n",
    "ll = printLN(head)\n",
    "so = Solution()\n",
    "head = so.deleteDuplicates(head)\n",
    "printLN(head)"
   ]
  },
  {
   "cell_type": "markdown",
   "metadata": {},
   "source": [
    "## 92. 反转链表 II\n",
    "反转从位置 m 到 n 的链表。请使用一趟扫描完成反转。\n",
    "\n",
    "说明:\n",
    "1 ≤ m ≤ n ≤ 链表长度。"
   ]
  },
  {
   "cell_type": "code",
   "execution_count": 204,
   "metadata": {},
   "outputs": [],
   "source": [
    "# Definition for singly-linked list.\n",
    "# class ListNode:\n",
    "#     def __init__(self, x):\n",
    "#         self.val = x\n",
    "#         self.next = None\n",
    "\n",
    "class Solution:\n",
    "    def reverseBetween(self, head: ListNode, m: int, n: int) -> ListNode:\n",
    "        curr = head\n",
    "        prev = ListNode(None)\n",
    "        prev.next = curr\n",
    "\n",
    "        ## 输入[1,2,3,4,5]   2   4为例\n",
    "        for i in range(m):\n",
    "            if i == m-1:\n",
    "                left = prev  ## left为1\n",
    "            prev = prev.next\n",
    "            curr = curr.next  \n",
    "        ## 循环完之后  prev为1，curr为2\n",
    "\n",
    "        ## 要换的部分倒转\n",
    "        for i in range(n-m):\n",
    "            tmp = curr.next\n",
    "            curr.next = prev\n",
    "            prev = curr\n",
    "            curr = tmp\n",
    "        ## 循环完之后：1->2->3->2->3->.....\n",
    "        ## 4->3->2->3->.....  prev = 4   curr = 5\n",
    "\n",
    "        tmp2 = left.next  ## 存2\n",
    "        left.next = prev  ## 使 1->4\n",
    "        tmp2.next = curr  ## 使 2->5\n",
    "        \n",
    "        \n",
    "        return head if m != 1 else prev\n"
   ]
  },
  {
   "cell_type": "code",
   "execution_count": 205,
   "metadata": {},
   "outputs": [
    {
     "name": "stdout",
     "output_type": "stream",
     "text": [
      "[5, 4, 3, 2, 1]\n"
     ]
    }
   ],
   "source": [
    "l = [1,2,3,4,5]\n",
    "head = construct(l)\n",
    "\n",
    "so = Solution()\n",
    "head = so.reverseBetween(head,1,5)\n",
    "printLN(head)"
   ]
  },
  {
   "cell_type": "code",
   "execution_count": null,
   "metadata": {},
   "outputs": [],
   "source": []
  },
  {
   "cell_type": "markdown",
   "metadata": {},
   "source": [
    "## 86. 分隔链表\n",
    "给定一个链表和一个特定值 x，对链表进行分隔，使得所有小于 x 的节点都在大于或等于 x 的节点之前。\n",
    "\n",
    "你应当保留两个分区中每个节点的初始相对位置。\n"
   ]
  },
  {
   "cell_type": "code",
   "execution_count": 225,
   "metadata": {},
   "outputs": [],
   "source": [
    "# Definition for singly-linked list.\n",
    "# class ListNode:\n",
    "#     def __init__(self, x):\n",
    "#         self.val = x\n",
    "#         self.next = None\n",
    "\n",
    "class Solution:\n",
    "    def partition(self, head: ListNode, x: int) -> ListNode:\n",
    "        right,left = ListNode(None),ListNode(None)\n",
    "        rcurr,lcurr = right,left\n",
    "        while head:\n",
    "            if head.val<x:\n",
    "                lcurr.next = head\n",
    "                lcurr = lcurr.next\n",
    "            else:\n",
    "                rcurr.next = head\n",
    "                rcurr = rcurr.next\n",
    "            head = head.next\n",
    "        rcurr.next = None  ## 关键，不然右半段连着过去了\n",
    "        lcurr.next = right.next\n",
    "        return left.next"
   ]
  },
  {
   "cell_type": "code",
   "execution_count": 226,
   "metadata": {},
   "outputs": [
    {
     "name": "stdout",
     "output_type": "stream",
     "text": [
      "[1, 2, 2, 4, 3, 5]\n"
     ]
    }
   ],
   "source": [
    "l = [1,4,3,2,5,2]\n",
    "\n",
    "head = construct(l)\n",
    "\n",
    "so = Solution()\n",
    "head = so.partition(head,3)\n",
    "printLN(head)"
   ]
  },
  {
   "cell_type": "code",
   "execution_count": null,
   "metadata": {},
   "outputs": [],
   "source": []
  },
  {
   "cell_type": "code",
   "execution_count": 8,
   "metadata": {},
   "outputs": [
    {
     "name": "stdout",
     "output_type": "stream",
     "text": [
      "1\n"
     ]
    }
   ],
   "source": [
    "# import this\n",
    "n=2\n",
    "m=3\n",
    "t=2\n",
    "meal_mid = [[2,1],[1,2]]\n",
    "meal_even = [[2,2],[1,3],[4,5]]\n",
    "meal_mid.sort(key=lambda x: x[0])\n",
    "meal_even.sort(key=lambda x: x[0])\n",
    "min_v = float(\"inf\")\n",
    "for midMeal in meal_mid:\n",
    "    if midMeal[1] >= t and midMeal[0] < min_v:\n",
    "        min_v = midMeal[0]\n",
    "        continue\n",
    "    for evenMeal in meal_even:\n",
    "        if evenMeal[1] >= t and evenMeal[0] < min_v:\n",
    "            min_v = evenMeal[0]\n",
    "            continue\n",
    "        if midMeal[1] + evenMeal[1] >= t and midMeal[0]+evenMeal[0] < min_v:\n",
    "             min_v = midMeal[0]+evenMeal[0]\n",
    "if min_v == 99999999:\n",
    "    print(-1)\n",
    "else:\n",
    "    print(min_v)"
   ]
  },
  {
   "cell_type": "code",
   "execution_count": 19,
   "metadata": {},
   "outputs": [
    {
     "name": "stdout",
     "output_type": "stream",
     "text": [
      "1 2"
     ]
    }
   ],
   "source": [
    "print(1,end=' ')\n",
    "print(2,end='')"
   ]
  },
  {
   "cell_type": "code",
   "execution_count": null,
   "metadata": {},
   "outputs": [],
   "source": []
  }
 ],
 "metadata": {
  "kernelspec": {
   "display_name": "Python 3",
   "language": "python",
   "name": "python3"
  },
  "language_info": {
   "codemirror_mode": {
    "name": "ipython",
    "version": 3
   },
   "file_extension": ".py",
   "mimetype": "text/x-python",
   "name": "python",
   "nbconvert_exporter": "python",
   "pygments_lexer": "ipython3",
   "version": "3.7.6"
  }
 },
 "nbformat": 4,
 "nbformat_minor": 4
}
