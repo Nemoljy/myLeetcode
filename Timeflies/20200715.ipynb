{
 "cells": [
  {
   "cell_type": "markdown",
   "metadata": {},
   "source": [
    "## 60. 第k个排列"
   ]
  },
  {
   "cell_type": "code",
   "execution_count": 9,
   "metadata": {},
   "outputs": [],
   "source": [
    "## 脑抽写出来的分组写法，边界条件很多导致错4次，但速度很快  12 ms, 在所有 Python 提交中击败了97.89%的用户\n",
    "class Solution(object):\n",
    "    def getPermutation(self, n, k):\n",
    "        \"\"\"\n",
    "        :type n: int\n",
    "        :type k: int\n",
    "        :rtype: str\n",
    "        \"\"\"\n",
    "        def factorial(n):\n",
    "            return (n*factorial(n-1)) if n != 0 else 1\n",
    "        \n",
    "        ind = []\n",
    "        ori_n = n\n",
    "        b = k\n",
    "        n_list = list(range(1,n+1))\n",
    "        while b!=0 and b!=1:\n",
    "            a = b // factorial(n-1)\n",
    "            b = b % factorial(n-1)\n",
    "            ind.append(a)\n",
    "            n -= 1\n",
    "        if b==1:\n",
    "            ind += [0]*n\n",
    "        else:\n",
    "            ind[-1] = ind[-1]-1\n",
    "            ind += [-1]*n\n",
    "        print(ind)\n",
    "        \n",
    "        result = ''\n",
    "        for i in ind:\n",
    "            result = result+str(n_list.pop(i))\n",
    "        \n",
    "        return result\n",
    "        "
   ]
  },
  {
   "cell_type": "code",
   "execution_count": 10,
   "metadata": {},
   "outputs": [
    {
     "name": "stdout",
     "output_type": "stream",
     "text": [
      "[1, 1, 0, 0]\n"
     ]
    },
    {
     "data": {
      "text/plain": [
       "'2314'"
      ]
     },
     "execution_count": 10,
     "metadata": {},
     "output_type": "execute_result"
    }
   ],
   "source": [
    "so = Solution()\n",
    "so.getPermutation(4,9)"
   ]
  },
  {
   "cell_type": "code",
   "execution_count": null,
   "metadata": {},
   "outputs": [],
   "source": []
  },
  {
   "cell_type": "code",
   "execution_count": null,
   "metadata": {},
   "outputs": [],
   "source": []
  }
 ],
 "metadata": {
  "kernelspec": {
   "display_name": "Python 3",
   "language": "python",
   "name": "python3"
  },
  "language_info": {
   "codemirror_mode": {
    "name": "ipython",
    "version": 3
   },
   "file_extension": ".py",
   "mimetype": "text/x-python",
   "name": "python",
   "nbconvert_exporter": "python",
   "pygments_lexer": "ipython3",
   "version": "3.7.3"
  }
 },
 "nbformat": 4,
 "nbformat_minor": 2
}
